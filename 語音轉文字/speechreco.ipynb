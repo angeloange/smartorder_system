{
 "cells": [
  {
   "cell_type": "code",
   "execution_count": 1,
   "metadata": {},
   "outputs": [
    {
     "name": "stdout",
     "output_type": "stream",
     "text": [
      "Collecting SpeechRecognition\n",
      "  Downloading SpeechRecognition-3.14.1-py3-none-any.whl.metadata (31 kB)\n",
      "Collecting typing-extensions (from SpeechRecognition)\n",
      "  Using cached typing_extensions-4.12.2-py3-none-any.whl.metadata (3.0 kB)\n",
      "Collecting standard-aifc (from SpeechRecognition)\n",
      "  Downloading standard_aifc-3.13.0-py3-none-any.whl.metadata (969 bytes)\n",
      "Collecting audioop-lts (from SpeechRecognition)\n",
      "  Downloading audioop_lts-0.2.1-cp313-abi3-macosx_11_0_arm64.whl.metadata (1.6 kB)\n",
      "Collecting standard-chunk (from standard-aifc->SpeechRecognition)\n",
      "  Downloading standard_chunk-3.13.0-py3-none-any.whl.metadata (860 bytes)\n",
      "Downloading SpeechRecognition-3.14.1-py3-none-any.whl (32.9 MB)\n",
      "\u001b[2K   \u001b[90m━━━━━━━━━━━━━━━━━━━━━━━━━━━━━━━━━━━━━━━━\u001b[0m \u001b[32m32.9/32.9 MB\u001b[0m \u001b[31m14.2 MB/s\u001b[0m eta \u001b[36m0:00:00\u001b[0m00:01\u001b[0m00:01\u001b[0m\n",
      "\u001b[?25hDownloading audioop_lts-0.2.1-cp313-abi3-macosx_11_0_arm64.whl (26 kB)\n",
      "Downloading standard_aifc-3.13.0-py3-none-any.whl (10 kB)\n",
      "Using cached typing_extensions-4.12.2-py3-none-any.whl (37 kB)\n",
      "Downloading standard_chunk-3.13.0-py3-none-any.whl (4.9 kB)\n",
      "Installing collected packages: standard-chunk, typing-extensions, audioop-lts, standard-aifc, SpeechRecognition\n",
      "Successfully installed SpeechRecognition-3.14.1 audioop-lts-0.2.1 standard-aifc-3.13.0 standard-chunk-3.13.0 typing-extensions-4.12.2\n"
     ]
    }
   ],
   "source": [
    "! pip install SpeechRecognition"
   ]
  },
  {
   "cell_type": "code",
   "execution_count": 6,
   "metadata": {},
   "outputs": [
    {
     "name": "stdout",
     "output_type": "stream",
     "text": [
      "準備開始錄音...\n",
      "開始錄音...\n",
      "錄音結束\n",
      "已儲存音訊檔案: output.wav\n"
     ]
    }
   ],
   "source": [
    "import pyaudio\n",
    "import wave\n",
    "import numpy as np\n",
    "import speech_recognition as sr\n",
    "import csv\n",
    "\n",
    "class AudioRecorder:\n",
    "    def __init__(self):\n",
    "        # 音訊參數設定\n",
    "        self.FORMAT = pyaudio.paInt16\n",
    "        self.CHANNELS = 1\n",
    "        self.RATE = 44100\n",
    "        self.CHUNK = 1024\n",
    "        self.audio = pyaudio.PyAudio()\n",
    "        \n",
    "    def record(self, seconds):\n",
    "        \"\"\"錄製指定秒數的音訊\"\"\"\n",
    "        print(\"準備開始錄音...\")\n",
    "        \n",
    "        # 開啟音訊串流\n",
    "        stream = self.audio.open(\n",
    "            format=self.FORMAT,\n",
    "            channels=self.CHANNELS,\n",
    "            rate=self.RATE,\n",
    "            input=True,\n",
    "            frames_per_buffer=self.CHUNK\n",
    "        )\n",
    "        \n",
    "        print(\"開始錄音...\")\n",
    "        frames = []\n",
    "        \n",
    "        # 讀取音訊數據\n",
    "        for _ in range(0, int(self.RATE / self.CHUNK * seconds)):\n",
    "            data = stream.read(self.CHUNK)\n",
    "            frames.append(data)\n",
    "            \n",
    "        print(\"錄音結束\")\n",
    "        \n",
    "        # 關閉串流\n",
    "        stream.stop_stream()\n",
    "        stream.close()\n",
    "        \n",
    "        return frames\n",
    "    \n",
    "    def save_audio(self, frames, filename=\"output.wav\"):\n",
    "        \"\"\"儲存音訊到檔案\"\"\"\n",
    "        with wave.open(filename, 'wb') as wf:\n",
    "            wf.setnchannels(self.CHANNELS)\n",
    "            wf.setsampwidth(self.audio.get_sample_size(self.FORMAT))\n",
    "            wf.setframerate(self.RATE)\n",
    "            wf.writeframes(b''.join(frames))\n",
    "        print(f\"已儲存音訊檔案: {filename}\")\n",
    "    \n",
    "    def __del__(self):\n",
    "        \"\"\"清理資源\"\"\"\n",
    "        self.audio.terminate()\n",
    "\n",
    "def speech_to_text(duration=5):\n",
    "    r = sr.Recognizer()\n",
    "    with sr.Microphone() as source:\n",
    "        print(\"Please wait. Calibrating microphone...\")\n",
    "        # listen for 5 seconds and create the ambient noise energy level\n",
    "        r.adjust_for_ambient_noise(source, duration=5)\n",
    "        print(\"Say something!\")\n",
    "        audio = r.listen(source, timeout=duration)\n",
    "    try:\n",
    "        # recognize speech using Google Speech Recognition\n",
    "        print(\"Google Speech Recognition thinks you said: \\n\" + r.recognize_google(audio, language='zh-TW'))\n",
    "        return r.recognize_google(audio, language='zh-TW')\n",
    "    except sr.UnknownValueError:\n",
    "        print(\"Google Speech Recognition could not understand audio\")\n",
    "    except sr.RequestError as e:\n",
    "        print(\"No response from Google Speech Recognition service: {0}\".format(e))\n",
    "\n",
    "def write_to_csv(text):\n",
    "    with open('speech_to_text.csv', 'w', newline='') as csvfile:\n",
    "        writer = csv.writer(csvfile)\n",
    "        writer.writerow([text])\n",
    "    print('Write to csv file successfully!')\n",
    "\n",
    "# 使用範例\n",
    "if __name__ == \"__main__\":\n",
    "    recorder = AudioRecorder()\n",
    "    audio_frames = recorder.record(seconds=5)\n",
    "    recorder.save_audio(audio_frames)"
   ]
  },
  {
   "cell_type": "code",
   "execution_count": 11,
   "metadata": {},
   "outputs": [
    {
     "name": "stdout",
     "output_type": "stream",
     "text": [
      "Please wait. Calibrating microphone...\n",
      "Say something!\n",
      "Google Speech Recognition thinks you said: \n",
      "你好現在\n",
      "Write to csv file successfully!\n"
     ]
    }
   ],
   "source": [
    "speech_to_text_result = speech_to_text()\n",
    "write_to_csv(speech_to_text_result)"
   ]
  },
  {
   "cell_type": "markdown",
   "metadata": {},
   "source": [
    "# 使用現有wav檔案轉成文字"
   ]
  },
  {
   "cell_type": "code",
   "execution_count": 13,
   "metadata": {},
   "outputs": [
    {
     "name": "stdout",
     "output_type": "stream",
     "text": [
      "正在處理音訊...\n",
      "辨識結果: 你好我要一杯珍珠奶茶微糖微冰還要一個大杯青茶無糖去冰再一個中被紅茶微糖少冰在一個裝備紅茶多糖少冰在一個裝備紅茶半糖少冰\n",
      "Write to csv file successfully!\n"
     ]
    }
   ],
   "source": [
    "def convert_wav_to_text(wav_file_path):\n",
    "    \"\"\"\n",
    "    將 WAV 檔案轉換為文字\n",
    "    \n",
    "    參數:\n",
    "        wav_file_path (str): WAV 檔案的路徑\n",
    "    回傳:\n",
    "        str: 辨識出的文字\n",
    "    \"\"\"\n",
    "    r = sr.Recognizer()\n",
    "    \n",
    "    try:\n",
    "        with sr.AudioFile(wav_file_path) as source:\n",
    "            # 讀取音訊檔案\n",
    "            audio = r.record(source)\n",
    "            \n",
    "            # 使用 Google Speech Recognition 進行辨識\n",
    "            print(\"正在處理音訊...\")\n",
    "            text = r.recognize_google(audio, language='zh-TW')\n",
    "            print(f\"辨識結果: {text}\")\n",
    "            return text\n",
    "            \n",
    "    except sr.UnknownValueError:\n",
    "        print(\"Google Speech Recognition 無法理解音訊\")\n",
    "        return None\n",
    "    except sr.RequestError as e:\n",
    "        print(f\"無法從 Google Speech Recognition service 獲取結果; {e}\")\n",
    "        return None\n",
    "    except Exception as e:\n",
    "        print(f\"發生錯誤: {e}\")\n",
    "        return None\n",
    "\n",
    "# 使用範例\n",
    "wav_file_path = \"/Users/angelo/Desktop/智慧點餐/output.wav\"  # 替換成您的 WAV 檔案路徑\n",
    "result = convert_wav_to_text(wav_file_path)\n",
    "\n",
    "if result:\n",
    "    # 如果需要，可以將結果寫入 CSV\n",
    "    write_to_csv(result)"
   ]
  },
  {
   "cell_type": "markdown",
   "metadata": {},
   "source": []
  },
  {
   "cell_type": "code",
   "execution_count": 8,
   "metadata": {},
   "outputs": [
    {
     "name": "stdout",
     "output_type": "stream",
     "text": [
      "{'data': [27.0, '晴'], 'message': '后里的天氣'}\n"
     ]
    }
   ],
   "source": [
    "import requests\n",
    "\n",
    "url = \"https://f7a9-125-231-116-59.ngrok-free.app\"\n",
    "response = requests.get(url)\n",
    "\n",
    "print(response.json())"
   ]
  },
  {
   "cell_type": "code",
   "execution_count": null,
   "metadata": {},
   "outputs": [],
   "source": []
  }
 ],
 "metadata": {
  "kernelspec": {
   "display_name": ".venv",
   "language": "python",
   "name": "python3"
  },
  "language_info": {
   "codemirror_mode": {
    "name": "ipython",
    "version": 3
   },
   "file_extension": ".py",
   "mimetype": "text/x-python",
   "name": "python",
   "nbconvert_exporter": "python",
   "pygments_lexer": "ipython3",
   "version": "3.11.7"
  }
 },
 "nbformat": 4,
 "nbformat_minor": 2
}
